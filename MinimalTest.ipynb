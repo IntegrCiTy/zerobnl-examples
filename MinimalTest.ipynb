{
 "cells": [
  {
   "cell_type": "code",
   "execution_count": 2,
   "metadata": {},
   "outputs": [],
   "source": [
    "import os\n",
    "from zerobnl import Simulator as Sim"
   ]
  },
  {
   "cell_type": "code",
   "execution_count": 3,
   "metadata": {},
   "outputs": [
    {
     "name": "stderr",
     "output_type": "stream",
     "text": [
      "INFO :: Meta-model BaseMeta created.\n",
      "INFO :: Model BaseModel created.\n",
      "INFO :: Node Base0 created.\n",
      "INFO :: Node Base1 created.\n",
      "INFO :: Link created Base0 -> Base1.\n",
      "INFO :: Link created Base1 -> Base0.\n",
      "INFO :: The group ('Base0',) have been created.\n",
      "INFO :: The group ('Base1',) have been created.\n",
      "INFO :: The sequence [['GRP0', ('Base0',)], ['GRP1', ('Base1',)]] have been created.\n",
      "INFO :: 10 steps have been created.\n"
     ]
    }
   ],
   "source": [
    "sim = Sim()\n",
    "\n",
    "sim.edit.add_meta(name=\"BaseMeta\", set_attrs=[\"a\"], get_attrs=[\"b\"])\n",
    "\n",
    "sim.edit.add_model(\n",
    "    name=\"BaseModel\",\n",
    "    meta=\"BaseMeta\",\n",
    "    wrapper=\"wrapper.py\",\n",
    "    dockerfile=\"Dockerfile\",\n",
    ")\n",
    "\n",
    "sim.edit.add_node(name=\"Base0\", model=\"BaseModel\", init_values={\"c\": 0.50})\n",
    "\n",
    "sim.edit.add_node(name=\"Base1\", model=\"BaseModel\", init_values={\"c\": 0.25})\n",
    "\n",
    "sim.edit.add_link(get_node=\"Base0\", get_attr=\"b\", set_node=\"Base1\", set_attr=\"a\")\n",
    "sim.edit.add_link(get_node=\"Base1\", get_attr=\"b\", set_node=\"Base0\", set_attr=\"a\")\n",
    "\n",
    "grp0 = sim.edit.create_group(\"GRP0\", \"Base0\")\n",
    "grp1 = sim.edit.create_group(\"GRP1\", \"Base1\")\n",
    "\n",
    "sim.edit.create_sequence(grp0, grp1)\n",
    "sim.edit.create_steps([60] * 10)"
   ]
  },
  {
   "cell_type": "code",
   "execution_count": 4,
   "metadata": {},
   "outputs": [
    {
     "name": "stderr",
     "output_type": "stream",
     "text": [
      "INFO :: Starting the simulation's deployment...\n",
      "INFO :: Starting simulation...\n",
      "INFO :: Simulation finished in 0 min and 7 sec\n"
     ]
    }
   ],
   "source": [
    "sim.run_simulation()"
   ]
  },
  {
   "cell_type": "code",
   "execution_count": 5,
   "metadata": {},
   "outputs": [
    {
     "name": "stderr",
     "output_type": "stream",
     "text": [
      "INFO :: Connected to 172.17.01 Redis DB\n"
     ]
    },
    {
     "data": {
      "text/html": [
       "<div>\n",
       "<style scoped>\n",
       "    .dataframe tbody tr th:only-of-type {\n",
       "        vertical-align: middle;\n",
       "    }\n",
       "\n",
       "    .dataframe tbody tr th {\n",
       "        vertical-align: top;\n",
       "    }\n",
       "\n",
       "    .dataframe thead th {\n",
       "        text-align: right;\n",
       "    }\n",
       "</style>\n",
       "<table border=\"1\" class=\"dataframe\">\n",
       "  <thead>\n",
       "    <tr style=\"text-align: right;\">\n",
       "      <th></th>\n",
       "      <th>IN/OUT</th>\n",
       "      <th>Node</th>\n",
       "      <th>Attribute</th>\n",
       "    </tr>\n",
       "  </thead>\n",
       "  <tbody>\n",
       "    <tr>\n",
       "      <th>0</th>\n",
       "      <td>IN</td>\n",
       "      <td>Base1</td>\n",
       "      <td>a</td>\n",
       "    </tr>\n",
       "    <tr>\n",
       "      <th>1</th>\n",
       "      <td>OUT</td>\n",
       "      <td>Base0</td>\n",
       "      <td>b</td>\n",
       "    </tr>\n",
       "    <tr>\n",
       "      <th>2</th>\n",
       "      <td>IN</td>\n",
       "      <td>Base0</td>\n",
       "      <td>a</td>\n",
       "    </tr>\n",
       "    <tr>\n",
       "      <th>3</th>\n",
       "      <td>OUT</td>\n",
       "      <td>Base1</td>\n",
       "      <td>b</td>\n",
       "    </tr>\n",
       "    <tr>\n",
       "      <th>4</th>\n",
       "      <td>X</td>\n",
       "      <td>Base1</td>\n",
       "      <td>y</td>\n",
       "    </tr>\n",
       "    <tr>\n",
       "      <th>5</th>\n",
       "      <td>X</td>\n",
       "      <td>Base0</td>\n",
       "      <td>y</td>\n",
       "    </tr>\n",
       "  </tbody>\n",
       "</table>\n",
       "</div>"
      ],
      "text/plain": [
       "  IN/OUT   Node Attribute\n",
       "0     IN  Base1         a\n",
       "1    OUT  Base0         b\n",
       "2     IN  Base0         a\n",
       "3    OUT  Base1         b\n",
       "4      X  Base1         y\n",
       "5      X  Base0         y"
      ]
     },
     "execution_count": 5,
     "metadata": {},
     "output_type": "execute_result"
    }
   ],
   "source": [
    "sim.results.connect_to_results_db()\n",
    "sim.results.list_of_available_results"
   ]
  },
  {
   "cell_type": "code",
   "execution_count": 6,
   "metadata": {},
   "outputs": [
    {
     "name": "stdout",
     "output_type": "stream",
     "text": [
      "2000-01-01 00:01:00   -0.25\n",
      "2000-01-01 00:02:00    0.00\n",
      "2000-01-01 00:03:00    0.25\n",
      "2000-01-01 00:04:00    1.00\n",
      "2000-01-01 00:05:00    1.25\n",
      "2000-01-01 00:06:00    2.00\n",
      "2000-01-01 00:07:00    2.25\n",
      "2000-01-01 00:08:00    2.50\n",
      "2000-01-01 00:09:00    2.75\n",
      "dtype: float64\n"
     ]
    }
   ],
   "source": [
    "for key, value in sim.results.get_results_by_pattern(\"IN*Base0*\").items():\n",
    "    print(value)"
   ]
  }
 ],
 "metadata": {
  "kernelspec": {
   "display_name": "Python 3",
   "language": "python",
   "name": "python3"
  },
  "language_info": {
   "codemirror_mode": {
    "name": "ipython",
    "version": 3
   },
   "file_extension": ".py",
   "mimetype": "text/x-python",
   "name": "python",
   "nbconvert_exporter": "python",
   "pygments_lexer": "ipython3",
   "version": "3.6.5"
  }
 },
 "nbformat": 4,
 "nbformat_minor": 2
}
