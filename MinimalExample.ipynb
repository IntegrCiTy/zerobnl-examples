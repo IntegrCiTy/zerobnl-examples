{
 "cells": [
  {
   "cell_type": "markdown",
   "metadata": {},
   "source": [
    "# Minimal dummy example with zerobnl\n",
    "\n",
    "We consider the following two nodes graph as a minimal dummy example of two nodes exchanging a variable and randomly add or substract a given value from it:\n",
    "\n",
    "<img src=\"./figures/model.png\" alt=\"Model\" style=\"width: 500px;\"/>\n",
    "\n",
    "The above graph can be created using zerobnl as follow:"
   ]
  },
  {
   "cell_type": "code",
   "execution_count": 1,
   "metadata": {},
   "outputs": [
    {
     "name": "stderr",
     "output_type": "stream",
     "text": [
      "/home/pablo/Projects/UseZerOBNL/venv/lib/python3.6/importlib/_bootstrap.py:219: RuntimeWarning: numpy.dtype size changed, may indicate binary incompatibility. Expected 96, got 88\n",
      "  return f(*args, **kwds)\n"
     ]
    }
   ],
   "source": [
    "import os\n",
    "from zerobnl import Simulator as Sim"
   ]
  },
  {
   "cell_type": "markdown",
   "metadata": {},
   "source": [
    "You can safely ignore the following error (it will also be in the nodes logs):\n",
    "\n",
    "`RuntimeWarning: numpy.dtype size changed, may indicate binary incompatibility. Expected 96, got 88`\n",
    "\n",
    "-> [https://github.com/numpy/numpy/pull/432]"
   ]
  },
  {
   "cell_type": "code",
   "execution_count": 2,
   "metadata": {},
   "outputs": [
    {
     "name": "stderr",
     "output_type": "stream",
     "text": [
      "INFO :: Meta-model BaseMeta created.\n",
      "INFO :: Model BaseModel created.\n",
      "INFO :: Node Base0 created.\n",
      "INFO :: Node Base1 created.\n",
      "INFO :: Link created Base0 -> Base1.\n",
      "INFO :: Link created Base1 -> Base0.\n",
      "INFO :: The group ('Base0',) have been created.\n",
      "INFO :: The group ('Base1',) have been created.\n",
      "INFO :: The sequence [['GRP0', ('Base0',)], ['GRP1', ('Base1',)]] have been created.\n",
      "INFO :: 10 steps have been created.\n"
     ]
    }
   ],
   "source": [
    "sim = Sim()\n",
    "\n",
    "sim.edit.add_meta(name=\"BaseMeta\", set_attrs=[\"a\"], get_attrs=[\"b\"])\n",
    "\n",
    "sim.edit.add_model(\n",
    "    name=\"BaseModel\",\n",
    "    meta=\"BaseMeta\",\n",
    "    wrapper=\"wrapper_base.py\",\n",
    "    # dockerfile=\"Dockerfile_base\",\n",
    ")\n",
    "\n",
    "sim.edit.add_node(name=\"Base0\", model=\"BaseModel\", init_values={\"c\": 0.50})\n",
    "\n",
    "sim.edit.add_node(name=\"Base1\", model=\"BaseModel\", init_values={\"c\": 0.25})\n",
    "\n",
    "sim.edit.add_link(get_node=\"Base0\", get_attr=\"b\", set_node=\"Base1\", set_attr=\"a\")\n",
    "sim.edit.add_link(get_node=\"Base1\", get_attr=\"b\", set_node=\"Base0\", set_attr=\"a\")\n",
    "\n",
    "grp0 = sim.edit.create_group(\"GRP0\", \"Base0\")\n",
    "grp1 = sim.edit.create_group(\"GRP1\", \"Base1\")\n",
    "\n",
    "sim.edit.create_sequence(grp0, grp1)\n",
    "sim.edit.create_steps([60] * 10)"
   ]
  },
  {
   "cell_type": "markdown",
   "metadata": {},
   "source": [
    "This simulation is based on `wrapper_base.py`, you can use to it as template to create your own. \n",
    "\n",
    "If you do not provide a dockerfile to `add_model()`, the [default](https://github.com/IntegrCiTy/zerobnl/blob/master/Dockerfiles/Dockerfile) one will be used."
   ]
  },
  {
   "cell_type": "code",
   "execution_count": 3,
   "metadata": {},
   "outputs": [
    {
     "name": "stderr",
     "output_type": "stream",
     "text": [
      "INFO :: Starting the simulation's deployment...\n",
      "INFO :: Starting simulation...\n",
      "INFO :: Simulation finished in 0 min and 7 sec\n"
     ]
    }
   ],
   "source": [
    "sim.run_simulation()"
   ]
  },
  {
   "cell_type": "markdown",
   "metadata": {},
   "source": [
    "If you see `INFO :: Simulation finished in X min and Y sec` it means everything went well.\n",
    "You can find logs of the nodes in the file `nodes.log`, it's a text file you can open it directly in Jupyter or in your favorite text editor.\n",
    "\n",
    "At the begining of the file you will find a serie of:\n",
    "\n",
    "`Step X/10 : DO SOMETHING\n",
    " ---> 29d2f3226daf`\n",
    " \n",
    "It's the logs of the creation of the Docker image, based on the provided Dockerfile (here `Dockerfile_base`).\n",
    "\n",
    "Then all the logs are structures in the same way:\n",
    "\n",
    "`<node>    | <level> :: <message>`\n",
    "\n",
    "* `node` refers to the concerned simulation node or orchestrator\n",
    "* `level` can be `DEBUG`: used for development purpose, `INFO`: giving you info on the running process, `WARNING`: warning you on action to make or some weird behaviour, `ERROR`: something went wrong and `CRITICAL`: something went really wrong.\n",
    "* `message` is the body of the log, it describes what's happening."
   ]
  },
  {
   "cell_type": "markdown",
   "metadata": {},
   "source": [
    "You can also find information on the ongoing simulation in the file `activity.log` (in the root folder for the main processus and on the temporary folder for each node)"
   ]
  },
  {
   "cell_type": "code",
   "execution_count": 4,
   "metadata": {},
   "outputs": [
    {
     "name": "stderr",
     "output_type": "stream",
     "text": [
      "INFO :: Connected to 172.17.01 Redis DB\n"
     ]
    },
    {
     "data": {
      "text/html": [
       "<div>\n",
       "<style scoped>\n",
       "    .dataframe tbody tr th:only-of-type {\n",
       "        vertical-align: middle;\n",
       "    }\n",
       "\n",
       "    .dataframe tbody tr th {\n",
       "        vertical-align: top;\n",
       "    }\n",
       "\n",
       "    .dataframe thead th {\n",
       "        text-align: right;\n",
       "    }\n",
       "</style>\n",
       "<table border=\"1\" class=\"dataframe\">\n",
       "  <thead>\n",
       "    <tr style=\"text-align: right;\">\n",
       "      <th></th>\n",
       "      <th>IN/OUT</th>\n",
       "      <th>Node</th>\n",
       "      <th>Attribute</th>\n",
       "    </tr>\n",
       "  </thead>\n",
       "  <tbody>\n",
       "    <tr>\n",
       "      <th>0</th>\n",
       "      <td>IN</td>\n",
       "      <td>Base1</td>\n",
       "      <td>a</td>\n",
       "    </tr>\n",
       "    <tr>\n",
       "      <th>1</th>\n",
       "      <td>OUT</td>\n",
       "      <td>Base0</td>\n",
       "      <td>b</td>\n",
       "    </tr>\n",
       "    <tr>\n",
       "      <th>2</th>\n",
       "      <td>IN</td>\n",
       "      <td>Base0</td>\n",
       "      <td>a</td>\n",
       "    </tr>\n",
       "    <tr>\n",
       "      <th>3</th>\n",
       "      <td>OUT</td>\n",
       "      <td>Base1</td>\n",
       "      <td>b</td>\n",
       "    </tr>\n",
       "    <tr>\n",
       "      <th>4</th>\n",
       "      <td>X</td>\n",
       "      <td>Base0</td>\n",
       "      <td>y</td>\n",
       "    </tr>\n",
       "    <tr>\n",
       "      <th>5</th>\n",
       "      <td>X</td>\n",
       "      <td>Base1</td>\n",
       "      <td>y</td>\n",
       "    </tr>\n",
       "  </tbody>\n",
       "</table>\n",
       "</div>"
      ],
      "text/plain": [
       "  IN/OUT   Node Attribute\n",
       "0     IN  Base1         a\n",
       "1    OUT  Base0         b\n",
       "2     IN  Base0         a\n",
       "3    OUT  Base1         b\n",
       "4      X  Base0         y\n",
       "5      X  Base1         y"
      ]
     },
     "execution_count": 4,
     "metadata": {},
     "output_type": "execute_result"
    }
   ],
   "source": [
    "sim.results.connect_to_results_db()\n",
    "sim.results.list_of_available_results"
   ]
  },
  {
   "cell_type": "markdown",
   "metadata": {},
   "source": [
    "The name to the stored results are build as `<type>||<node>||<attribute>`.\n",
    "\n",
    "`type` can be:\n",
    "* `IN` if it's an input attribute (to set - stored automatically)\n",
    "* `OUT` if it's an output attribute (to get - stored automatically)\n",
    "* `X` if it's an internal value (stored by the user, using the `save_attribute()` method in the wrapper)\n",
    "\n",
    "Knowing this, you can create matching pattern using `*` in order to properly select results."
   ]
  },
  {
   "cell_type": "code",
   "execution_count": 5,
   "metadata": {},
   "outputs": [
    {
     "name": "stderr",
     "output_type": "stream",
     "text": [
      "INFO :: Matching results: Base0 - b\n",
      "INFO :: Matching results: Base0 - a\n",
      "INFO :: Matching results: Base0 - y\n"
     ]
    },
    {
     "name": "stdout",
     "output_type": "stream",
     "text": [
      "IN||Base0||a\n",
      "2000-01-01 00:01:00    0.00\n",
      "2000-01-01 00:02:00   -0.25\n",
      "2000-01-01 00:03:00   -0.25\n",
      "2000-01-01 00:04:00    0.00\n",
      "2000-01-01 00:05:00    0.50\n",
      "2000-01-01 00:06:00    1.00\n",
      "2000-01-01 00:07:00    0.50\n",
      "2000-01-01 00:08:00    1.25\n",
      "2000-01-01 00:09:00    0.50\n",
      "dtype: float64\n",
      "OUT||Base0||b\n",
      "2000-01-01 00:01:00    0.00\n",
      "2000-01-01 00:02:00   -0.50\n",
      "2000-01-01 00:03:00   -0.25\n",
      "2000-01-01 00:04:00    0.25\n",
      "2000-01-01 00:05:00    0.50\n",
      "2000-01-01 00:06:00    1.00\n",
      "2000-01-01 00:07:00    0.50\n",
      "2000-01-01 00:08:00    1.00\n",
      "2000-01-01 00:09:00    0.75\n",
      "2000-01-01 00:10:00    0.00\n",
      "dtype: float64\n",
      "X||Base0||y\n",
      "2000-01-01 00:01:00    0.0\n",
      "2000-01-01 00:02:00   -1.0\n",
      "2000-01-01 00:03:00    0.0\n",
      "2000-01-01 00:04:00    1.0\n",
      "2000-01-01 00:05:00    1.0\n",
      "2000-01-01 00:06:00    1.0\n",
      "2000-01-01 00:07:00   -1.0\n",
      "2000-01-01 00:08:00    1.0\n",
      "2000-01-01 00:09:00   -1.0\n",
      "2000-01-01 00:10:00   -1.0\n",
      "dtype: float64\n"
     ]
    }
   ],
   "source": [
    "for key, value in sim.results.get_results_by_pattern(\"*Base0*\").items():\n",
    "    print(key)\n",
    "    print(value)"
   ]
  },
  {
   "cell_type": "code",
   "execution_count": 6,
   "metadata": {},
   "outputs": [
    {
     "name": "stderr",
     "output_type": "stream",
     "text": [
      "INFO :: Matching results: Base0 - a\n"
     ]
    },
    {
     "name": "stdout",
     "output_type": "stream",
     "text": [
      "IN||Base0||a\n",
      "2000-01-01 00:01:00    0.00\n",
      "2000-01-01 00:02:00   -0.25\n",
      "2000-01-01 00:03:00   -0.25\n",
      "2000-01-01 00:04:00    0.00\n",
      "2000-01-01 00:05:00    0.50\n",
      "2000-01-01 00:06:00    1.00\n",
      "2000-01-01 00:07:00    0.50\n",
      "2000-01-01 00:08:00    1.25\n",
      "2000-01-01 00:09:00    0.50\n",
      "dtype: float64\n"
     ]
    }
   ],
   "source": [
    "for key, value in sim.results.get_results_by_pattern(\"IN*Base0*\").items():\n",
    "    print(key)\n",
    "    print(value)"
   ]
  }
 ],
 "metadata": {
  "kernelspec": {
   "display_name": "Python 3",
   "language": "python",
   "name": "python3"
  },
  "language_info": {
   "codemirror_mode": {
    "name": "ipython",
    "version": 3
   },
   "file_extension": ".py",
   "mimetype": "text/x-python",
   "name": "python",
   "nbconvert_exporter": "python",
   "pygments_lexer": "ipython3",
   "version": "3.6.5"
  }
 },
 "nbformat": 4,
 "nbformat_minor": 2
}
